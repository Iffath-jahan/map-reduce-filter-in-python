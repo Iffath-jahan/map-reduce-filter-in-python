{
 "cells": [
  {
   "cell_type": "markdown",
   "id": "e64fbd9f-9129-45bd-a4a7-8fa073a92ebb",
   "metadata": {},
   "source": [
    "## lambda funcTion"
   ]
  },
  {
   "cell_type": "code",
   "execution_count": 1,
   "id": "305014ec-904c-4d1e-b8d9-002d6eb09650",
   "metadata": {},
   "outputs": [],
   "source": [
    "n=3\n",
    "p=2"
   ]
  },
  {
   "cell_type": "code",
   "execution_count": 2,
   "id": "bf665401-7bf7-4c41-bcc0-1c0e1f1e5230",
   "metadata": {},
   "outputs": [],
   "source": [
    "def test2(n,p):\n",
    "    return n**p"
   ]
  },
  {
   "cell_type": "code",
   "execution_count": 3,
   "id": "20190683-d68b-47f0-9f6d-f6654414d511",
   "metadata": {},
   "outputs": [
    {
     "data": {
      "text/plain": [
       "9"
      ]
     },
     "execution_count": 3,
     "metadata": {},
     "output_type": "execute_result"
    }
   ],
   "source": [
    "test2(3,2)"
   ]
  },
  {
   "cell_type": "code",
   "execution_count": 5,
   "id": "9af6f699-4ad0-44ef-9ea7-da3bc494db70",
   "metadata": {},
   "outputs": [
    {
     "data": {
      "text/plain": [
       "<function __main__.<lambda>(n, p)>"
      ]
     },
     "execution_count": 5,
     "metadata": {},
     "output_type": "execute_result"
    }
   ],
   "source": [
    "lambda n,p:n**p  #this funcation is called abhaba fun bez it doesn't contain any name or ananmous or lambda fun"
   ]
  },
  {
   "cell_type": "code",
   "execution_count": 9,
   "id": "a4bda543-c1a2-4d4c-b213-d843044810e8",
   "metadata": {},
   "outputs": [],
   "source": [
    "a=lambda n,p:n**p  ## this is one line fun we can also use def fun too"
   ]
  },
  {
   "cell_type": "code",
   "execution_count": 10,
   "id": "3de1188b-1666-4c64-b4fc-e17accd82810",
   "metadata": {},
   "outputs": [
    {
     "data": {
      "text/plain": [
       "9"
      ]
     },
     "execution_count": 10,
     "metadata": {},
     "output_type": "execute_result"
    }
   ],
   "source": [
    "a(3,2)"
   ]
  },
  {
   "cell_type": "code",
   "execution_count": 11,
   "id": "2ed44b18-c527-4348-a70b-425b8ed124a7",
   "metadata": {},
   "outputs": [],
   "source": [
    "add=lambda x,y:x+y"
   ]
  },
  {
   "cell_type": "code",
   "execution_count": 12,
   "id": "1d5ac935-ad77-49d2-988e-52f63bbad0cc",
   "metadata": {},
   "outputs": [
    {
     "data": {
      "text/plain": [
       "10"
      ]
     },
     "execution_count": 12,
     "metadata": {},
     "output_type": "execute_result"
    }
   ],
   "source": [
    "add(2,8)"
   ]
  },
  {
   "cell_type": "code",
   "execution_count": 13,
   "id": "aa1c013d-3cb3-4751-b12a-8484731b163d",
   "metadata": {},
   "outputs": [
    {
     "data": {
      "text/plain": [
       "2911"
      ]
     },
     "execution_count": 13,
     "metadata": {},
     "output_type": "execute_result"
    }
   ],
   "source": [
    "add(2344,567)"
   ]
  },
  {
   "cell_type": "code",
   "execution_count": 14,
   "id": "6f8fce55-363a-43eb-a987-2b9fd5035b08",
   "metadata": {},
   "outputs": [],
   "source": [
    "c_to_f=lambda c:(9/5)*c+32"
   ]
  },
  {
   "cell_type": "code",
   "execution_count": 15,
   "id": "b478d61a-5a04-49cb-8e9c-da9f10a30a46",
   "metadata": {},
   "outputs": [
    {
     "data": {
      "text/plain": [
       "93.2"
      ]
     },
     "execution_count": 15,
     "metadata": {},
     "output_type": "execute_result"
    }
   ],
   "source": [
    "c_to_f(34)"
   ]
  },
  {
   "cell_type": "code",
   "execution_count": 16,
   "id": "a920319e-c2f2-471b-b4f9-f9b39e42b2d2",
   "metadata": {},
   "outputs": [],
   "source": [
    "max_of=lambda x,y: x if x>y else y"
   ]
  },
  {
   "cell_type": "code",
   "execution_count": 17,
   "id": "d795f117-9df1-4406-b0bb-eeb720aa5ee0",
   "metadata": {},
   "outputs": [
    {
     "data": {
      "text/plain": [
       "89"
      ]
     },
     "execution_count": 17,
     "metadata": {},
     "output_type": "execute_result"
    }
   ],
   "source": [
    "max_of(89,27)"
   ]
  },
  {
   "cell_type": "code",
   "execution_count": 18,
   "id": "abb704cc-987f-4f19-8e49-904d4bc0c4b0",
   "metadata": {},
   "outputs": [],
   "source": [
    "len_s=lambda s:len(s)"
   ]
  },
  {
   "cell_type": "code",
   "execution_count": 19,
   "id": "f6d988bb-7809-4fea-9236-7cf5a223b535",
   "metadata": {},
   "outputs": [
    {
     "data": {
      "text/plain": [
       "9"
      ]
     },
     "execution_count": 19,
     "metadata": {},
     "output_type": "execute_result"
    }
   ],
   "source": [
    "len_s(\"pw skills\")"
   ]
  },
  {
   "cell_type": "markdown",
   "id": "407aa368-e118-4b35-b98e-3178e474fb70",
   "metadata": {},
   "source": [
    "## map"
   ]
  },
  {
   "cell_type": "code",
   "execution_count": 4,
   "id": "a241a9f0-5b3d-46c5-998f-c2246c8a941f",
   "metadata": {},
   "outputs": [],
   "source": [
    "l=[1,2,3,45,6]"
   ]
  },
  {
   "cell_type": "code",
   "execution_count": 5,
   "id": "29049244-cbda-41de-8ba5-9d776bd4b678",
   "metadata": {},
   "outputs": [],
   "source": [
    "def test5(l):\n",
    "    l1=[]\n",
    "    for i in l:\n",
    "        l1.append(i**2)\n",
    "    return l1"
   ]
  },
  {
   "cell_type": "code",
   "execution_count": 6,
   "id": "fb5a6b6d-e460-4069-a20f-fed79658fcfd",
   "metadata": {},
   "outputs": [
    {
     "data": {
      "text/plain": [
       "[1, 4, 9, 2025, 36]"
      ]
     },
     "execution_count": 6,
     "metadata": {},
     "output_type": "execute_result"
    }
   ],
   "source": [
    "test5(l)"
   ]
  },
  {
   "cell_type": "raw",
   "id": "cd518778-2096-48f7-91c4-a4f6f275bfcd",
   "metadata": {},
   "source": [
    "map()Init signature: map(self, /, *args, **kwargs)\n",
    "Docstring:     \n",
    "map(func, *iterables) --> map object\n",
    "\n",
    "Make an iterator that computes the function using arguments from\n",
    "each of the iterables.  Stops when the shortest iterable is exhausted.\n",
    "Type:           type\n",
    "Subclasses:     "
   ]
  },
  {
   "cell_type": "code",
   "execution_count": 7,
   "id": "d3df7b64-ee6c-448d-b05d-7b318a9a2a15",
   "metadata": {},
   "outputs": [],
   "source": [
    "def sq(x):\n",
    "    return x**2    "
   ]
  },
  {
   "cell_type": "code",
   "execution_count": 8,
   "id": "8e450bf3-aa7a-456d-a3f4-a5edfc0601b9",
   "metadata": {},
   "outputs": [
    {
     "data": {
      "text/plain": [
       "[1, 4, 9, 2025, 36]"
      ]
     },
     "execution_count": 8,
     "metadata": {},
     "output_type": "execute_result"
    }
   ],
   "source": [
    "list(map(sq,l))"
   ]
  },
  {
   "cell_type": "code",
   "execution_count": 11,
   "id": "dfb9b259-5432-4ce8-ba64-9e0048836933",
   "metadata": {},
   "outputs": [
    {
     "data": {
      "text/plain": [
       "[1, 4, 9, 2025, 36]"
      ]
     },
     "execution_count": 11,
     "metadata": {},
     "output_type": "execute_result"
    }
   ],
   "source": [
    "list(map(lambda x: x**2,l))"
   ]
  },
  {
   "cell_type": "code",
   "execution_count": null,
   "id": "2017e380-7831-4e7b-8c6a-eb322e1f68fb",
   "metadata": {},
   "outputs": [],
   "source": [
    "l1=[1,2,3,45]\n",
    "l2=[4,5,6,78]"
   ]
  },
  {
   "cell_type": "code",
   "execution_count": null,
   "id": "aa99dcd8-2dea-4f44-8c3d-c4adabefe38a",
   "metadata": {},
   "outputs": [],
   "source": [
    "list(map(lambda l1,l2:l1+l2,l1,l2))"
   ]
  },
  {
   "cell_type": "code",
   "execution_count": null,
   "id": "21174d3e-999a-4cbd-a466-bcc1a2018f33",
   "metadata": {},
   "outputs": [],
   "source": [
    "f=lambda l1,l2:l1+l2"
   ]
  },
  {
   "cell_type": "code",
   "execution_count": null,
   "id": "2be16f39-fc45-48ac-8cc1-edc8c43e7aa9",
   "metadata": {},
   "outputs": [],
   "source": [
    "list(map(f,l1,l2))"
   ]
  },
  {
   "cell_type": "code",
   "execution_count": 22,
   "id": "1be34bfa-9ac1-4eea-8654-5fc72322eff0",
   "metadata": {},
   "outputs": [],
   "source": [
    "s=\"pw skills\""
   ]
  },
  {
   "cell_type": "code",
   "execution_count": 26,
   "id": "4bc90923-9b57-40c9-89d0-95a556290d62",
   "metadata": {},
   "outputs": [
    {
     "data": {
      "text/plain": [
       "['P', 'W', ' ', 'S', 'K', 'I', 'L', 'L', 'S']"
      ]
     },
     "execution_count": 26,
     "metadata": {},
     "output_type": "execute_result"
    }
   ],
   "source": [
    "list(map(lambda x: x.upper() ,s))"
   ]
  },
  {
   "cell_type": "code",
   "execution_count": 4,
   "id": "fa489b0e-8703-404a-ac03-6ddfa2ccaa4d",
   "metadata": {},
   "outputs": [],
   "source": [
    "from functools  import reduce"
   ]
  },
  {
   "cell_type": "code",
   "execution_count": 5,
   "id": "ca4d7f56-dfbb-4606-957d-f9b6878a3407",
   "metadata": {},
   "outputs": [],
   "source": [
    "l=[1,2,3,4,5,6,7]"
   ]
  },
  {
   "cell_type": "code",
   "execution_count": 7,
   "id": "a60821b7-f839-4ee0-a33e-de82f5d609dc",
   "metadata": {},
   "outputs": [
    {
     "data": {
      "text/plain": [
       "28"
      ]
     },
     "execution_count": 7,
     "metadata": {},
     "output_type": "execute_result"
    }
   ],
   "source": [
    "reduce(lambda x,y:x+y,l)  #it is an comparison funation two argument camparies simoultanously"
   ]
  },
  {
   "cell_type": "raw",
   "id": "4de74a1d-32e7-453a-b230-b59dedcbb933",
   "metadata": {},
   "source": [
    "reduce()educe(function, iterable[, initial]) -> value\n",
    "\n",
    "Apply a function of two arguments cumulatively to the items of a sequence\n",
    "or iterable, from left to right, so as to reduce the iterable to a single\n",
    "value.  For example, reduce(lambda x, y: x+y, [1, 2, 3, 4, 5]) calculates\n",
    "((((1+2)+3)+4)+5).  If initial is present, it is placed before the items\n",
    "of the iterable in the calculation, and serves as a default when the\n",
    "iterable is empty.\n",
    "Type:      builtin_function_or_method\n",
    "## note: it wont perform for 3 arguments"
   ]
  },
  {
   "cell_type": "code",
   "execution_count": 11,
   "id": "1a8dd3c6-dbb3-41f4-9797-01a647073e9e",
   "metadata": {},
   "outputs": [
    {
     "data": {
      "text/plain": [
       "7"
      ]
     },
     "execution_count": 11,
     "metadata": {},
     "output_type": "execute_result"
    }
   ],
   "source": [
    "reduce(lambda x,y: x if x>y else y,l)"
   ]
  },
  {
   "cell_type": "markdown",
   "id": "19a6dcf4-860a-4e76-8598-9b5910eeeaf1",
   "metadata": {},
   "source": [
    " ## filter()Init signature: filter(self, /, *args, **kwargs)\n",
    "Docstring:     \n",
    "filter(function or None, iterable) --> filter object\n",
    "\n",
    "Return an iterator yielding those items of iterable for which function(item)\n",
    "is true. If function is None, return the items that are true.\n",
    "Type:           type\n",
    "Subclasses: \n",
    "##"
   ]
  },
  {
   "cell_type": "code",
   "execution_count": 19,
   "id": "261c86b2-da14-46e2-81f1-7f1ff0dedc75",
   "metadata": {},
   "outputs": [
    {
     "data": {
      "text/plain": [
       "[2, 34, 4, 6, 8]"
      ]
     },
     "execution_count": 19,
     "metadata": {},
     "output_type": "execute_result"
    }
   ],
   "source": [
    "l=[1,2,34,4,6,7,8]\n",
    "list(filter(lambda i : i if i%2==0 else 0,l))  "
   ]
  },
  {
   "cell_type": "code",
   "execution_count": 20,
   "id": "f0aef2f9-d073-4467-bef4-6a6ab29c1c80",
   "metadata": {},
   "outputs": [],
   "source": [
    "m=[-1,-2,-3,-4,-5,1,2,3,4,5]"
   ]
  },
  {
   "cell_type": "code",
   "execution_count": 25,
   "id": "df24c275-e816-4423-9375-b9bbb7fbf8a1",
   "metadata": {},
   "outputs": [
    {
     "data": {
      "text/plain": [
       "[1, 2, 3, 4, 5]"
      ]
     },
     "execution_count": 25,
     "metadata": {},
     "output_type": "execute_result"
    }
   ],
   "source": [
    "list(filter(lambda i:  i>0  ,m))"
   ]
  },
  {
   "cell_type": "code",
   "execution_count": null,
   "id": "25548013-b43b-4dcc-a22c-802ffa7cc557",
   "metadata": {},
   "outputs": [],
   "source": []
  }
 ],
 "metadata": {
  "kernelspec": {
   "display_name": "Python 3 (ipykernel)",
   "language": "python",
   "name": "python3"
  },
  "language_info": {
   "codemirror_mode": {
    "name": "ipython",
    "version": 3
   },
   "file_extension": ".py",
   "mimetype": "text/x-python",
   "name": "python",
   "nbconvert_exporter": "python",
   "pygments_lexer": "ipython3",
   "version": "3.10.8"
  }
 },
 "nbformat": 4,
 "nbformat_minor": 5
}
